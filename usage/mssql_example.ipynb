{
    "cells": [
        {
            "cell_type": "markdown",
            "metadata": {},
            "source": [
                "# MSSQLDB Manager Usage Examples\n",
                "\n",
                "This notebook demonstrates how to use the `MSSQLDB` manager class to create, manage, and interact with a Microsoft SQL Server database in a Docker container. We'll use Python and SQL cell magic to showcase the package functionality."
            ]
        },
        {
            "cell_type": "markdown",
            "metadata": {},
            "source": [
                "## Setup\n",
                "\n",
                "### Install Required Packages"
            ]
        },
        {
            "cell_type": "code",
            "execution_count": 1,
            "metadata": {},
            "outputs": [
                {
                    "name": "stdout",
                    "output_type": "stream",
                    "text": [
                        "Requirement already satisfied: ipython-sqlcmd in c:\\users\\acisse\\onedrive - bridgingit-gruppe\\003_codeworkspace\\003_private\\duplicateworkspaces\\docker-db\\.venv\\lib\\site-packages (0.1.3)\n",
                        "Requirement already satisfied: py-dockerdb in c:\\users\\acisse\\onedrive - bridgingit-gruppe\\003_codeworkspace\\003_private\\duplicateworkspaces\\docker-db\\.venv\\lib\\site-packages (0.8.0)\n",
                        "Requirement already satisfied: pyodbc in c:\\users\\acisse\\onedrive - bridgingit-gruppe\\003_codeworkspace\\003_private\\duplicateworkspaces\\docker-db\\.venv\\lib\\site-packages (5.2.0)\n",
                        "Requirement already satisfied: ipython>=7.0.0 in c:\\users\\acisse\\onedrive - bridgingit-gruppe\\003_codeworkspace\\003_private\\duplicateworkspaces\\docker-db\\.venv\\lib\\site-packages (from ipython-sqlcmd) (9.2.0)\n",
                        "Requirement already satisfied: pandas>=1.0.0 in c:\\users\\acisse\\onedrive - bridgingit-gruppe\\003_codeworkspace\\003_private\\duplicateworkspaces\\docker-db\\.venv\\lib\\site-packages (from ipython-sqlcmd) (2.2.3)\n",
                        "Requirement already satisfied: psycopg2-binary in c:\\users\\acisse\\onedrive - bridgingit-gruppe\\003_codeworkspace\\003_private\\duplicateworkspaces\\docker-db\\.venv\\lib\\site-packages (from py-dockerdb) (2.9.10)\n",
                        "Requirement already satisfied: docker in c:\\users\\acisse\\onedrive - bridgingit-gruppe\\003_codeworkspace\\003_private\\duplicateworkspaces\\docker-db\\.venv\\lib\\site-packages (from py-dockerdb) (7.1.0)\n",
                        "Requirement already satisfied: pytest in c:\\users\\acisse\\onedrive - bridgingit-gruppe\\003_codeworkspace\\003_private\\duplicateworkspaces\\docker-db\\.venv\\lib\\site-packages (from py-dockerdb) (8.3.5)\n",
                        "Requirement already satisfied: pymongo in c:\\users\\acisse\\onedrive - bridgingit-gruppe\\003_codeworkspace\\003_private\\duplicateworkspaces\\docker-db\\.venv\\lib\\site-packages (from py-dockerdb) (4.13.0)\n",
                        "Requirement already satisfied: pydantic in c:\\users\\acisse\\onedrive - bridgingit-gruppe\\003_codeworkspace\\003_private\\duplicateworkspaces\\docker-db\\.venv\\lib\\site-packages (from py-dockerdb) (2.11.4)\n",
                        "Requirement already satisfied: setuptools in c:\\users\\acisse\\onedrive - bridgingit-gruppe\\003_codeworkspace\\003_private\\duplicateworkspaces\\docker-db\\.venv\\lib\\site-packages (from py-dockerdb) (80.7.1)\n",
                        "Requirement already satisfied: mysql-connector-python in c:\\users\\acisse\\onedrive - bridgingit-gruppe\\003_codeworkspace\\003_private\\duplicateworkspaces\\docker-db\\.venv\\lib\\site-packages (from py-dockerdb) (9.3.0)\n",
                        "Requirement already satisfied: pydos2unix in c:\\users\\acisse\\onedrive - bridgingit-gruppe\\003_codeworkspace\\003_private\\duplicateworkspaces\\docker-db\\.venv\\lib\\site-packages (from py-dockerdb) (0.0.1)\n",
                        "Requirement already satisfied: colorama in c:\\users\\acisse\\onedrive - bridgingit-gruppe\\003_codeworkspace\\003_private\\duplicateworkspaces\\docker-db\\.venv\\lib\\site-packages (from ipython>=7.0.0->ipython-sqlcmd) (0.4.6)\n",
                        "Requirement already satisfied: decorator in c:\\users\\acisse\\onedrive - bridgingit-gruppe\\003_codeworkspace\\003_private\\duplicateworkspaces\\docker-db\\.venv\\lib\\site-packages (from ipython>=7.0.0->ipython-sqlcmd) (5.2.1)\n",
                        "Requirement already satisfied: ipython-pygments-lexers in c:\\users\\acisse\\onedrive - bridgingit-gruppe\\003_codeworkspace\\003_private\\duplicateworkspaces\\docker-db\\.venv\\lib\\site-packages (from ipython>=7.0.0->ipython-sqlcmd) (1.1.1)\n",
                        "Requirement already satisfied: jedi>=0.16 in c:\\users\\acisse\\onedrive - bridgingit-gruppe\\003_codeworkspace\\003_private\\duplicateworkspaces\\docker-db\\.venv\\lib\\site-packages (from ipython>=7.0.0->ipython-sqlcmd) (0.19.2)\n",
                        "Requirement already satisfied: matplotlib-inline in c:\\users\\acisse\\onedrive - bridgingit-gruppe\\003_codeworkspace\\003_private\\duplicateworkspaces\\docker-db\\.venv\\lib\\site-packages (from ipython>=7.0.0->ipython-sqlcmd) (0.1.7)\n",
                        "Requirement already satisfied: prompt_toolkit<3.1.0,>=3.0.41 in c:\\users\\acisse\\onedrive - bridgingit-gruppe\\003_codeworkspace\\003_private\\duplicateworkspaces\\docker-db\\.venv\\lib\\site-packages (from ipython>=7.0.0->ipython-sqlcmd) (3.0.51)\n",
                        "Requirement already satisfied: pygments>=2.4.0 in c:\\users\\acisse\\onedrive - bridgingit-gruppe\\003_codeworkspace\\003_private\\duplicateworkspaces\\docker-db\\.venv\\lib\\site-packages (from ipython>=7.0.0->ipython-sqlcmd) (2.19.1)\n",
                        "Requirement already satisfied: stack_data in c:\\users\\acisse\\onedrive - bridgingit-gruppe\\003_codeworkspace\\003_private\\duplicateworkspaces\\docker-db\\.venv\\lib\\site-packages (from ipython>=7.0.0->ipython-sqlcmd) (0.6.3)\n",
                        "Requirement already satisfied: traitlets>=5.13.0 in c:\\users\\acisse\\onedrive - bridgingit-gruppe\\003_codeworkspace\\003_private\\duplicateworkspaces\\docker-db\\.venv\\lib\\site-packages (from ipython>=7.0.0->ipython-sqlcmd) (5.14.3)\n",
                        "Requirement already satisfied: numpy>=1.26.0 in c:\\users\\acisse\\onedrive - bridgingit-gruppe\\003_codeworkspace\\003_private\\duplicateworkspaces\\docker-db\\.venv\\lib\\site-packages (from pandas>=1.0.0->ipython-sqlcmd) (2.2.6)\n",
                        "Requirement already satisfied: python-dateutil>=2.8.2 in c:\\users\\acisse\\onedrive - bridgingit-gruppe\\003_codeworkspace\\003_private\\duplicateworkspaces\\docker-db\\.venv\\lib\\site-packages (from pandas>=1.0.0->ipython-sqlcmd) (2.9.0.post0)\n",
                        "Requirement already satisfied: pytz>=2020.1 in c:\\users\\acisse\\onedrive - bridgingit-gruppe\\003_codeworkspace\\003_private\\duplicateworkspaces\\docker-db\\.venv\\lib\\site-packages (from pandas>=1.0.0->ipython-sqlcmd) (2025.2)\n",
                        "Requirement already satisfied: tzdata>=2022.7 in c:\\users\\acisse\\onedrive - bridgingit-gruppe\\003_codeworkspace\\003_private\\duplicateworkspaces\\docker-db\\.venv\\lib\\site-packages (from pandas>=1.0.0->ipython-sqlcmd) (2025.2)\n",
                        "Requirement already satisfied: pywin32>=304 in c:\\users\\acisse\\onedrive - bridgingit-gruppe\\003_codeworkspace\\003_private\\duplicateworkspaces\\docker-db\\.venv\\lib\\site-packages (from docker->py-dockerdb) (310)\n",
                        "Requirement already satisfied: requests>=2.26.0 in c:\\users\\acisse\\onedrive - bridgingit-gruppe\\003_codeworkspace\\003_private\\duplicateworkspaces\\docker-db\\.venv\\lib\\site-packages (from docker->py-dockerdb) (2.32.3)\n",
                        "Requirement already satisfied: urllib3>=1.26.0 in c:\\users\\acisse\\onedrive - bridgingit-gruppe\\003_codeworkspace\\003_private\\duplicateworkspaces\\docker-db\\.venv\\lib\\site-packages (from docker->py-dockerdb) (2.4.0)\n",
                        "Requirement already satisfied: annotated-types>=0.6.0 in c:\\users\\acisse\\onedrive - bridgingit-gruppe\\003_codeworkspace\\003_private\\duplicateworkspaces\\docker-db\\.venv\\lib\\site-packages (from pydantic->py-dockerdb) (0.7.0)\n",
                        "Requirement already satisfied: pydantic-core==2.33.2 in c:\\users\\acisse\\onedrive - bridgingit-gruppe\\003_codeworkspace\\003_private\\duplicateworkspaces\\docker-db\\.venv\\lib\\site-packages (from pydantic->py-dockerdb) (2.33.2)\n",
                        "Requirement already satisfied: typing-extensions>=4.12.2 in c:\\users\\acisse\\onedrive - bridgingit-gruppe\\003_codeworkspace\\003_private\\duplicateworkspaces\\docker-db\\.venv\\lib\\site-packages (from pydantic->py-dockerdb) (4.13.2)\n",
                        "Requirement already satisfied: typing-inspection>=0.4.0 in c:\\users\\acisse\\onedrive - bridgingit-gruppe\\003_codeworkspace\\003_private\\duplicateworkspaces\\docker-db\\.venv\\lib\\site-packages (from pydantic->py-dockerdb) (0.4.0)\n",
                        "Requirement already satisfied: dnspython<3.0.0,>=1.16.0 in c:\\users\\acisse\\onedrive - bridgingit-gruppe\\003_codeworkspace\\003_private\\duplicateworkspaces\\docker-db\\.venv\\lib\\site-packages (from pymongo->py-dockerdb) (2.7.0)\n",
                        "Requirement already satisfied: iniconfig in c:\\users\\acisse\\onedrive - bridgingit-gruppe\\003_codeworkspace\\003_private\\duplicateworkspaces\\docker-db\\.venv\\lib\\site-packages (from pytest->py-dockerdb) (2.1.0)\n",
                        "Requirement already satisfied: packaging in c:\\users\\acisse\\onedrive - bridgingit-gruppe\\003_codeworkspace\\003_private\\duplicateworkspaces\\docker-db\\.venv\\lib\\site-packages (from pytest->py-dockerdb) (25.0)\n",
                        "Requirement already satisfied: pluggy<2,>=1.5 in c:\\users\\acisse\\onedrive - bridgingit-gruppe\\003_codeworkspace\\003_private\\duplicateworkspaces\\docker-db\\.venv\\lib\\site-packages (from pytest->py-dockerdb) (1.6.0)\n",
                        "Requirement already satisfied: parso<0.9.0,>=0.8.4 in c:\\users\\acisse\\onedrive - bridgingit-gruppe\\003_codeworkspace\\003_private\\duplicateworkspaces\\docker-db\\.venv\\lib\\site-packages (from jedi>=0.16->ipython>=7.0.0->ipython-sqlcmd) (0.8.4)\n",
                        "Requirement already satisfied: wcwidth in c:\\users\\acisse\\onedrive - bridgingit-gruppe\\003_codeworkspace\\003_private\\duplicateworkspaces\\docker-db\\.venv\\lib\\site-packages (from prompt_toolkit<3.1.0,>=3.0.41->ipython>=7.0.0->ipython-sqlcmd) (0.2.13)\n",
                        "Requirement already satisfied: six>=1.5 in c:\\users\\acisse\\onedrive - bridgingit-gruppe\\003_codeworkspace\\003_private\\duplicateworkspaces\\docker-db\\.venv\\lib\\site-packages (from python-dateutil>=2.8.2->pandas>=1.0.0->ipython-sqlcmd) (1.17.0)\n",
                        "Requirement already satisfied: charset-normalizer<4,>=2 in c:\\users\\acisse\\onedrive - bridgingit-gruppe\\003_codeworkspace\\003_private\\duplicateworkspaces\\docker-db\\.venv\\lib\\site-packages (from requests>=2.26.0->docker->py-dockerdb) (3.4.2)\n",
                        "Requirement already satisfied: idna<4,>=2.5 in c:\\users\\acisse\\onedrive - bridgingit-gruppe\\003_codeworkspace\\003_private\\duplicateworkspaces\\docker-db\\.venv\\lib\\site-packages (from requests>=2.26.0->docker->py-dockerdb) (3.10)\n",
                        "Requirement already satisfied: certifi>=2017.4.17 in c:\\users\\acisse\\onedrive - bridgingit-gruppe\\003_codeworkspace\\003_private\\duplicateworkspaces\\docker-db\\.venv\\lib\\site-packages (from requests>=2.26.0->docker->py-dockerdb) (2025.4.26)\n",
                        "Requirement already satisfied: executing>=1.2.0 in c:\\users\\acisse\\onedrive - bridgingit-gruppe\\003_codeworkspace\\003_private\\duplicateworkspaces\\docker-db\\.venv\\lib\\site-packages (from stack_data->ipython>=7.0.0->ipython-sqlcmd) (2.2.0)\n",
                        "Requirement already satisfied: asttokens>=2.1.0 in c:\\users\\acisse\\onedrive - bridgingit-gruppe\\003_codeworkspace\\003_private\\duplicateworkspaces\\docker-db\\.venv\\lib\\site-packages (from stack_data->ipython>=7.0.0->ipython-sqlcmd) (3.0.0)\n",
                        "Requirement already satisfied: pure-eval in c:\\users\\acisse\\onedrive - bridgingit-gruppe\\003_codeworkspace\\003_private\\duplicateworkspaces\\docker-db\\.venv\\lib\\site-packages (from stack_data->ipython>=7.0.0->ipython-sqlcmd) (0.2.3)\n"
                    ]
                },
                {
                    "name": "stderr",
                    "output_type": "stream",
                    "text": [
                        "\n",
                        "[notice] A new release of pip is available: 25.0.1 -> 25.1.1\n",
                        "[notice] To update, run: python.exe -m pip install --upgrade pip\n"
                    ]
                }
            ],
            "source": [
                "!pip install ipython-sqlcmd py-dockerdb pyodbc"
            ]
        },
        {
            "cell_type": "markdown",
            "metadata": {},
            "source": [
                "### Import Dependencies"
            ]
        },
        {
            "cell_type": "code",
            "execution_count": 2,
            "metadata": {},
            "outputs": [],
            "source": [
                "import uuid\n",
                "from pathlib import Path\n",
                "from docker_db.mssql_db import MSSQLConfig, MSSQLDB\n",
                "\n",
                "# For SQL cell magic\n",
                "%load_ext sqlcmd"
            ]
        },
        {
            "cell_type": "markdown",
            "metadata": {},
            "source": [
                "## Creating a SQL Server Database Instance\n",
                "\n",
                "Let's create a temporary directory for our database files:"
            ]
        },
        {
            "cell_type": "code",
            "execution_count": 3,
            "metadata": {},
            "outputs": [
                {
                    "data": {
                        "text/plain": [
                            "True"
                        ]
                    },
                    "execution_count": 3,
                    "metadata": {},
                    "output_type": "execute_result"
                }
            ],
            "source": [
                "import tempfile\n",
                "import os\n",
                "temp_dir = Path(\"tmp\").absolute()\n",
                "temp_dir.mkdir(exist_ok=True)\n",
                "container_name = f\"demo-mssql-{uuid.uuid4().hex[:8]}\"\n",
                "init_script_path = Path(\"configs\", \"mssql\", \"initdb.sql\")\n",
                "init_script_path.exists()"
            ]
        },
        {
            "cell_type": "code",
            "execution_count": 4,
            "metadata": {},
            "outputs": [
                {
                    "data": {
                        "text/markdown": [
                            "```sql\n",
                            "-- MSSQL Initialization Script\n",
                            "-- This script runs when the database container starts\n",
                            "\n",
                            "-- Ensure we're using the correct database\n",
                            "USE demodb;\n",
                            "\n",
                            "-- Create table if it doesn't exist\n",
                            "IF NOT EXISTS (SELECT * FROM sysobjects WHERE name='test_table' AND xtype='U')\n",
                            "CREATE TABLE test_table (\n",
                            "    id INT IDENTITY(1,1) PRIMARY KEY,\n",
                            "    name NVARCHAR(255),\n",
                            "    environment NVARCHAR(100)\n",
                            ");\n",
                            "\n",
                            "-- Insert test data using environment variable (passed via environment)\n",
                            "-- Note: MSSQL doesn't support environment variables directly in SQL like MySQL\n",
                            "-- So we'll handle this through the application layer\n",
                            "INSERT INTO test_table (name, environment) \n",
                            "VALUES ('Test Entry', '$(YourEnvVar)');\n",
                            "\n",
                            "GO;\n",
                            "-- Create a sample function\n",
                            "CREATE OR ALTER FUNCTION dbo.get_env_info()\n",
                            "RETURNS NVARCHAR(500)\n",
                            "AS\n",
                            "BEGIN\n",
                            "    DECLARE @env_value NVARCHAR(255);\n",
                            "    SELECT TOP 1 @env_value = environment FROM test_table;\n",
                            "    RETURN 'Environment: ' + ISNULL(@env_value, 'Not Set');\n",
                            "END;\n",
                            "GO;\n",
                            "```"
                        ],
                        "text/plain": [
                            "<IPython.core.display.Markdown object>"
                        ]
                    },
                    "metadata": {},
                    "output_type": "display_data"
                }
            ],
            "source": [
                "from utils import display_sql_script\n",
                "display_sql_script(init_script_path)"
            ]
        },
        {
            "cell_type": "markdown",
            "metadata": {},
            "source": [
                "Now, let's set up the MSSQLDB configuration:"
            ]
        },
        {
            "cell_type": "code",
            "execution_count": 5,
            "metadata": {},
            "outputs": [],
            "source": [
                "# Generate a unique container name\n",
                "container_name = f\"demo-mssql-{uuid.uuid4().hex[:8]}\"\n",
                "\n",
                "# Create a configuration for our database\n",
                "config = MSSQLConfig(\n",
                "    user=\"demouser\",\n",
                "    host=\"127.0.0.1\",               # <- for some reason, this is not working with 'localhost'\n",
                "    password=\"Demo_Pass123\",\n",
                "    database=\"demodb\",\n",
                "    sa_password=\"StrongPass123!\",\n",
                "    project_name=\"demo\",\n",
                "    workdir=temp_dir,\n",
                "    container_name=container_name,\n",
                "    retries=20,\n",
                "    delay=3,\n",
                "    init_script=init_script_path,\n",
                "    env_vars={\"YourEnvVar\": \"TestEnvironment\"}\n",
                ")\n",
                "\n",
                "# Initialize the database manager\n",
                "db_manager = MSSQLDB(config)"
            ]
        },
        {
            "cell_type": "markdown",
            "metadata": {},
            "source": [
                "## Start the Database\n",
                "\n",
                "We'll now create and start the database. This process may take a bit longer for SQL Server as it's a more resource-intensive database engine:"
            ]
        },
        {
            "cell_type": "code",
            "execution_count": 6,
            "metadata": {},
            "outputs": [
                {
                    "name": "stdout",
                    "output_type": "stream",
                    "text": [
                        "DB unreachable. Obtained error: ('28000', \"[28000] [Microsoft][ODBC Driver 17 for SQL Server][SQL Server]Login failed for user 'demouser'. (18456) (SQLDriverConnect); [28000] [Microsoft][ODBC Driver 17 for SQL Server]Invalid connection string attribute (0); [28000] [Microsoft][ODBC Driver 17 for SQL Server][SQL Server]Login failed for user 'demouser'. (18456); [28000] [Microsoft][ODBC Driver 17 for SQL Server]Invalid connection string attribute (0)\")\n"
                    ]
                },
                {
                    "ename": "InterfaceError",
                    "evalue": "('28000', \"[28000] [Microsoft][ODBC Driver 17 for SQL Server][SQL Server]Login failed for user 'demouser'. (18456) (SQLDriverConnect); [28000] [Microsoft][ODBC Driver 17 for SQL Server]Invalid connection string attribute (0); [28000] [Microsoft][ODBC Driver 17 for SQL Server][SQL Server]Login failed for user 'demouser'. (18456); [28000] [Microsoft][ODBC Driver 17 for SQL Server]Invalid connection string attribute (0)\")",
                    "output_type": "error",
                    "traceback": [
                        "\u001b[31m---------------------------------------------------------------------------\u001b[39m",
                        "\u001b[31mInterfaceError\u001b[39m                            Traceback (most recent call last)",
                        "\u001b[36mCell\u001b[39m\u001b[36m \u001b[39m\u001b[32mIn[6]\u001b[39m\u001b[32m, line 2\u001b[39m\n\u001b[32m      1\u001b[39m \u001b[38;5;66;03m# Create and start the database\u001b[39;00m\n\u001b[32m----> \u001b[39m\u001b[32m2\u001b[39m \u001b[43mdb_manager\u001b[49m\u001b[43m.\u001b[49m\u001b[43mcreate_db\u001b[49m\u001b[43m(\u001b[49m\u001b[43m)\u001b[49m\n\u001b[32m      3\u001b[39m \u001b[38;5;28mprint\u001b[39m(\u001b[33mf\u001b[39m\u001b[33m\"\u001b[39m\u001b[33mDatabase started successfully in container \u001b[39m\u001b[33m'\u001b[39m\u001b[38;5;132;01m{\u001b[39;00mcontainer_name\u001b[38;5;132;01m}\u001b[39;00m\u001b[33m'\u001b[39m\u001b[33m\"\u001b[39m)\n\u001b[32m      4\u001b[39m \u001b[38;5;28mprint\u001b[39m(\u001b[33mf\u001b[39m\u001b[33m\"\u001b[39m\u001b[33mConnection details:\u001b[39m\u001b[33m\"\u001b[39m)\n",
                        "\u001b[36mFile \u001b[39m\u001b[32mc:\\Users\\acisse\\OneDrive - bridgingIT-Gruppe\\003_CodeWorkspace\\003_private\\DuplicateWorkspaces\\docker-db\\.venv\\Lib\\site-packages\\docker_db\\containers.py:201\u001b[39m, in \u001b[36mContainerManager.create_db\u001b[39m\u001b[34m(self, db_name, container, exists_ok, running_ok, force)\u001b[39m\n\u001b[32m    199\u001b[39m \u001b[38;5;28;01mif\u001b[39;00m \u001b[38;5;28mself\u001b[39m.config.volume_path \u001b[38;5;129;01mis\u001b[39;00m \u001b[38;5;129;01mnot\u001b[39;00m \u001b[38;5;28;01mNone\u001b[39;00m:\n\u001b[32m    200\u001b[39m     Path(\u001b[38;5;28mself\u001b[39m.config.volume_path).mkdir(parents=\u001b[38;5;28;01mTrue\u001b[39;00m, exist_ok=\u001b[38;5;28;01mTrue\u001b[39;00m)\n\u001b[32m--> \u001b[39m\u001b[32m201\u001b[39m \u001b[38;5;28;43mself\u001b[39;49m\u001b[43m.\u001b[49m\u001b[43mstart_db\u001b[49m\u001b[43m(\u001b[49m\n\u001b[32m    202\u001b[39m \u001b[43m    \u001b[49m\u001b[43mcontainer\u001b[49m\u001b[43m=\u001b[49m\u001b[43mcontainer\u001b[49m\u001b[43m,\u001b[49m\n\u001b[32m    203\u001b[39m \u001b[43m    \u001b[49m\u001b[43mrunning_ok\u001b[49m\u001b[43m=\u001b[49m\u001b[43mrunning_ok\u001b[49m\u001b[43m,\u001b[49m\n\u001b[32m    204\u001b[39m \u001b[43m    \u001b[49m\u001b[43mforce\u001b[49m\u001b[43m=\u001b[49m\u001b[43mforce\u001b[49m\u001b[43m,\u001b[49m\n\u001b[32m    205\u001b[39m \u001b[43m\u001b[49m\u001b[43m)\u001b[49m\n\u001b[32m    206\u001b[39m \u001b[38;5;28mself\u001b[39m._create_db(\n\u001b[32m    207\u001b[39m     db_name,\n\u001b[32m    208\u001b[39m     container=container,\n\u001b[32m    209\u001b[39m )\n",
                        "\u001b[36mFile \u001b[39m\u001b[32mc:\\Users\\acisse\\OneDrive - bridgingIT-Gruppe\\003_CodeWorkspace\\003_private\\DuplicateWorkspaces\\docker-db\\.venv\\Lib\\site-packages\\docker_db\\containers.py:250\u001b[39m, in \u001b[36mContainerManager.start_db\u001b[39m\u001b[34m(self, container, running_ok, force)\u001b[39m\n\u001b[32m    244\u001b[39m     \u001b[38;5;28mself\u001b[39m._convert_script_to_unix()\n\u001b[32m    245\u001b[39m \u001b[38;5;28mself\u001b[39m._start_container(\n\u001b[32m    246\u001b[39m     container=container,\n\u001b[32m    247\u001b[39m     running_ok=running_ok,\n\u001b[32m    248\u001b[39m     force=force,\n\u001b[32m    249\u001b[39m )\n\u001b[32m--> \u001b[39m\u001b[32m250\u001b[39m \u001b[38;5;28;43mself\u001b[39;49m\u001b[43m.\u001b[49m\u001b[43mtest_connection\u001b[49m\u001b[43m(\u001b[49m\u001b[43m)\u001b[49m\n",
                        "\u001b[36mFile \u001b[39m\u001b[32mc:\\Users\\acisse\\OneDrive - bridgingIT-Gruppe\\003_CodeWorkspace\\003_private\\DuplicateWorkspaces\\docker-db\\.venv\\Lib\\site-packages\\docker_db\\containers.py:800\u001b[39m, in \u001b[36mContainerManager.test_connection\u001b[39m\u001b[34m(self)\u001b[39m\n\u001b[32m    798\u001b[39m \u001b[38;5;28;01mexcept\u001b[39;00m \u001b[38;5;167;01mException\u001b[39;00m \u001b[38;5;28;01mas\u001b[39;00m e:\n\u001b[32m    799\u001b[39m     \u001b[38;5;28mprint\u001b[39m(\u001b[33mf\u001b[39m\u001b[33m\"\u001b[39m\u001b[33mDB unreachable. Obtained error: \u001b[39m\u001b[38;5;132;01m{\u001b[39;00me\u001b[38;5;132;01m}\u001b[39;00m\u001b[33m\"\u001b[39m)\n\u001b[32m--> \u001b[39m\u001b[32m800\u001b[39m     \u001b[38;5;28;01mraise\u001b[39;00m e\n",
                        "\u001b[36mFile \u001b[39m\u001b[32mc:\\Users\\acisse\\OneDrive - bridgingIT-Gruppe\\003_CodeWorkspace\\003_private\\DuplicateWorkspaces\\docker-db\\.venv\\Lib\\site-packages\\docker_db\\containers.py:796\u001b[39m, in \u001b[36mContainerManager.test_connection\u001b[39m\u001b[34m(self)\u001b[39m\n\u001b[32m    781\u001b[39m \u001b[38;5;250m\u001b[39m\u001b[33;03m\"\"\"\u001b[39;00m\n\u001b[32m    782\u001b[39m \u001b[33;03mEnsure DB is reachable, otherwise build & start.\u001b[39;00m\n\u001b[32m    783\u001b[39m \u001b[33;03m\u001b[39;00m\n\u001b[32m   (...)\u001b[39m\u001b[32m    793\u001b[39m \u001b[33;03m    If the database is unreachable and Docker container needs to be started\u001b[39;00m\n\u001b[32m    794\u001b[39m \u001b[33;03m\"\"\"\u001b[39;00m\n\u001b[32m    795\u001b[39m \u001b[38;5;28;01mtry\u001b[39;00m:\n\u001b[32m--> \u001b[39m\u001b[32m796\u001b[39m     conn = \u001b[38;5;28;43mself\u001b[39;49m\u001b[43m.\u001b[49m\u001b[43mconnection\u001b[49m\n\u001b[32m    797\u001b[39m     conn.close()\n\u001b[32m    798\u001b[39m \u001b[38;5;28;01mexcept\u001b[39;00m \u001b[38;5;167;01mException\u001b[39;00m \u001b[38;5;28;01mas\u001b[39;00m e:\n",
                        "\u001b[36mFile \u001b[39m\u001b[32mc:\\Users\\acisse\\OneDrive - bridgingIT-Gruppe\\003_CodeWorkspace\\003_private\\DuplicateWorkspaces\\docker-db\\.venv\\Lib\\site-packages\\docker_db\\mssql_db.py:129\u001b[39m, in \u001b[36mMSSQLDB.connection\u001b[39m\u001b[34m(self)\u001b[39m\n\u001b[32m    126\u001b[39m \u001b[38;5;28;01mif\u001b[39;00m \u001b[38;5;28mhasattr\u001b[39m(\u001b[38;5;28mself\u001b[39m, \u001b[33m'\u001b[39m\u001b[33mdatabase_created\u001b[39m\u001b[33m'\u001b[39m):\n\u001b[32m    127\u001b[39m     connection_string += \u001b[33mf\u001b[39m\u001b[33m\"\u001b[39m\u001b[33mDATABASE=\u001b[39m\u001b[38;5;132;01m{\u001b[39;00m\u001b[38;5;28mself\u001b[39m.config.database\u001b[38;5;132;01m}\u001b[39;00m\u001b[33m;\u001b[39m\u001b[33m\"\u001b[39m\n\u001b[32m--> \u001b[39m\u001b[32m129\u001b[39m \u001b[38;5;28;01mreturn\u001b[39;00m \u001b[43mpyodbc\u001b[49m\u001b[43m.\u001b[49m\u001b[43mconnect\u001b[49m\u001b[43m(\u001b[49m\u001b[43mconnection_string\u001b[49m\u001b[43m)\u001b[49m\n",
                        "\u001b[31mInterfaceError\u001b[39m: ('28000', \"[28000] [Microsoft][ODBC Driver 17 for SQL Server][SQL Server]Login failed for user 'demouser'. (18456) (SQLDriverConnect); [28000] [Microsoft][ODBC Driver 17 for SQL Server]Invalid connection string attribute (0); [28000] [Microsoft][ODBC Driver 17 for SQL Server][SQL Server]Login failed for user 'demouser'. (18456); [28000] [Microsoft][ODBC Driver 17 for SQL Server]Invalid connection string attribute (0)\")"
                    ]
                }
            ],
            "source": [
                "# Create and start the database\n",
                "db_manager.create_db()\n",
                "print(f\"Database started successfully in container '{container_name}'\")\n",
                "print(f\"Connection details:\")\n",
                "print(f\"  Host: {config.host}\")\n",
                "print(f\"  Port: {config.port}\")\n",
                "print(f\"  User: {config.user}\")\n",
                "print(f\"  Database: {config.database}\")"
            ]
        },
        {
            "cell_type": "code",
            "execution_count": null,
            "metadata": {},
            "outputs": [
                {
                    "name": "stdout",
                    "output_type": "stream",
                    "text": [
                        "Waiting for SQL Server to be fully ready...\n",
                        "Error during setup: ('42000', '[42000] [Microsoft][ODBC Driver 17 for SQL Server][SQL Server]CREATE DATABASE statement not allowed within multi-statement transaction. (226) (SQLExecDirectW)')\n",
                        "Database started successfully in container 'demo-mssql-5a19293b'\n",
                        "Connection details:\n",
                        "  Host: 127.0.0.1\n",
                        "  Port: 1433\n",
                        "  User: demouser\n",
                        "  Database: demodb\n"
                    ]
                }
            ],
            "source": [
                "import time\n",
                "import pyodbc\n",
                "\n",
                "# Connect as sa first to create the demouser\n",
                "sa_conn_string = f\"DRIVER={{ODBC Driver 17 for SQL Server}};SERVER={config.host};DATABASE=master;UID=sa;PWD={config.sa_password};Encrypt=yes;TrustServerCertificate=yes;\"\n",
                "\n",
                "try:\n",
                "    # Connect as sa to create user and database\n",
                "    sa_conn = pyodbc.connect(sa_conn_string)\n",
                "    cursor = sa_conn.cursor()\n",
                "    \n",
                "    # Create the database\n",
                "    cursor.execute(f\"CREATE DATABASE {config.database}\")\n",
                "    print(f\"Database '{config.database}' created successfully\")\n",
                "    \n",
                "    # Create the login and user\n",
                "    cursor.execute(f\"CREATE LOGIN {config.user} WITH PASSWORD = '{config.password}'\")\n",
                "    cursor.execute(f\"USE {config.database}\")\n",
                "    cursor.execute(f\"CREATE USER {config.user} FOR LOGIN {config.user}\")\n",
                "    cursor.execute(f\"ALTER ROLE db_owner ADD MEMBER {config.user}\")\n",
                "    \n",
                "    print(f\"User '{config.user}' created successfully with db_owner permissions\")\n",
                "    \n",
                "    cursor.close()\n",
                "    sa_conn.close()\n",
                "    \n",
                "except Exception as e:\n",
                "    print(f\"Error during setup: {e}\")\n",
                "\n",
                "print(f\"Database started successfully in container '{container_name}'\")\n",
                "print(f\"Connection details:\")\n",
                "print(f\"  Host: {config.host}\")\n",
                "print(f\"  Port: {config.port}\")\n",
                "print(f\"  User: {config.user}\")\n",
                "print(f\"  Database: {config.database}\")"
            ]
        },
        {
            "cell_type": "markdown",
            "metadata": {},
            "source": [
                "## Connect and Run SQL Queries\n",
                "\n",
                "Now that our database is running, let's connect to it using SQL cell magic. For SQL Server, we'll use the ODBC connection string:"
            ]
        },
        {
            "cell_type": "code",
            "execution_count": null,
            "metadata": {},
            "outputs": [
                {
                    "name": "stdout",
                    "output_type": "stream",
                    "text": [
                        "Connection string set: mssql+sqlcmd:///?odbc_connect=DRIVER%3D%7BODBC+Driver+17+for+SQL+Server%7D%3BSERVER%3D127.0.0.1%3BDATABASE%3Ddemodb%3BUID%3Ddemouser%3BPWD%3DDemo_Pass123%3BEncrypt%3Dyes%3BTrustServerCertificate%3Dyes%3B\n",
                        "Parsed connection info: {'server': '127.0.0.1', 'database': 'demodb', 'username': 'demouser', 'password': '***'}\n"
                    ]
                }
            ],
            "source": [
                "%sqlcmd $config.database --password $config.password --username $config.user --driver \"ODBC Driver 17 for SQL Server\"  --server $config.host"
            ]
        },
        {
            "cell_type": "markdown",
            "metadata": {},
            "source": [
                "### Creating a Table"
            ]
        },
        {
            "cell_type": "code",
            "execution_count": null,
            "metadata": {},
            "outputs": [],
            "source": [
                "%%sqlcmd\n",
                "CREATE TABLE demo_users (\n",
                "    id INT IDENTITY(1,1) PRIMARY KEY,\n",
                "    username VARCHAR(50) UNIQUE NOT NULL,\n",
                "    email VARCHAR(100) UNIQUE,\n",
                "    created_at DATETIME DEFAULT GETDATE()\n",
                ");"
            ]
        },
        {
            "cell_type": "markdown",
            "metadata": {},
            "source": [
                "### Insert Data"
            ]
        },
        {
            "cell_type": "code",
            "execution_count": null,
            "metadata": {},
            "outputs": [
                {
                    "name": "stdout",
                    "output_type": "stream",
                    "text": [
                        "(3 rows affected)\n"
                    ]
                }
            ],
            "source": [
                "%%sqlcmd\n",
                "INSERT INTO demo_users (username, email) VALUES\n",
                "    ('alice', 'alice@example.com'),\n",
                "    ('bob', 'bob@example.com'),\n",
                "    ('charlie', 'charlie@example.com');"
            ]
        },
        {
            "cell_type": "markdown",
            "metadata": {},
            "source": [
                "### Query Data"
            ]
        },
        {
            "cell_type": "code",
            "execution_count": null,
            "metadata": {},
            "outputs": [
                {
                    "data": {
                        "text/html": [
                            "<div>\n",
                            "<style scoped>\n",
                            "    .dataframe tbody tr th:only-of-type {\n",
                            "        vertical-align: middle;\n",
                            "    }\n",
                            "\n",
                            "    .dataframe tbody tr th {\n",
                            "        vertical-align: top;\n",
                            "    }\n",
                            "\n",
                            "    .dataframe thead th {\n",
                            "        text-align: right;\n",
                            "    }\n",
                            "</style>\n",
                            "<table border=\"1\" class=\"dataframe\">\n",
                            "  <thead>\n",
                            "    <tr style=\"text-align: right;\">\n",
                            "      <th></th>\n",
                            "      <th>id</th>\n",
                            "      <th>username</th>\n",
                            "      <th>email</th>\n",
                            "      <th>created_at</th>\n",
                            "    </tr>\n",
                            "  </thead>\n",
                            "  <tbody>\n",
                            "    <tr>\n",
                            "      <th>0</th>\n",
                            "      <td>1</td>\n",
                            "      <td>alice</td>\n",
                            "      <td>alice@example.com</td>\n",
                            "      <td>2025-05-20 08:52:15.097</td>\n",
                            "    </tr>\n",
                            "    <tr>\n",
                            "      <th>1</th>\n",
                            "      <td>2</td>\n",
                            "      <td>bob</td>\n",
                            "      <td>bob@example.com</td>\n",
                            "      <td>2025-05-20 08:52:15.097</td>\n",
                            "    </tr>\n",
                            "    <tr>\n",
                            "      <th>2</th>\n",
                            "      <td>3</td>\n",
                            "      <td>charlie</td>\n",
                            "      <td>charlie@example.com</td>\n",
                            "      <td>2025-05-20 08:52:15.097</td>\n",
                            "    </tr>\n",
                            "  </tbody>\n",
                            "</table>\n",
                            "</div>"
                        ],
                        "text/plain": [
                            "  id username                email               created_at\n",
                            "0  1    alice    alice@example.com  2025-05-20 08:52:15.097\n",
                            "1  2      bob      bob@example.com  2025-05-20 08:52:15.097\n",
                            "2  3  charlie  charlie@example.com  2025-05-20 08:52:15.097"
                        ]
                    },
                    "metadata": {},
                    "output_type": "display_data"
                },
                {
                    "name": "stdout",
                    "output_type": "stream",
                    "text": [
                        "\n",
                        "(3 rows affected)\n"
                    ]
                }
            ],
            "source": [
                "%%sqlcmd\n",
                "SELECT * FROM demo_users;"
            ]
        },
        {
            "cell_type": "markdown",
            "metadata": {},
            "source": [
                "### Run More Complex Queries"
            ]
        },
        {
            "cell_type": "code",
            "execution_count": null,
            "metadata": {},
            "outputs": [
                {
                    "name": "stdout",
                    "output_type": "stream",
                    "text": [
                        "(4 rows affected)\n"
                    ]
                },
                {
                    "data": {
                        "text/html": [
                            "<div>\n",
                            "<style scoped>\n",
                            "    .dataframe tbody tr th:only-of-type {\n",
                            "        vertical-align: middle;\n",
                            "    }\n",
                            "\n",
                            "    .dataframe tbody tr th {\n",
                            "        vertical-align: top;\n",
                            "    }\n",
                            "\n",
                            "    .dataframe thead th {\n",
                            "        text-align: right;\n",
                            "    }\n",
                            "</style>\n",
                            "<table border=\"1\" class=\"dataframe\">\n",
                            "  <thead>\n",
                            "    <tr style=\"text-align: right;\">\n",
                            "      <th></th>\n",
                            "      <th>username</th>\n",
                            "      <th>title</th>\n",
                            "      <th>content</th>\n",
                            "    </tr>\n",
                            "  </thead>\n",
                            "  <tbody>\n",
                            "    <tr>\n",
                            "      <th>0</th>\n",
                            "      <td>alice</td>\n",
                            "      <td>Alice First Post</td>\n",
                            "      <td>Hello world from Alice!</td>\n",
                            "    </tr>\n",
                            "    <tr>\n",
                            "      <th>1</th>\n",
                            "      <td>alice</td>\n",
                            "      <td>Alice Second Post</td>\n",
                            "      <td>Another post from Alice</td>\n",
                            "    </tr>\n",
                            "    <tr>\n",
                            "      <th>2</th>\n",
                            "      <td>bob</td>\n",
                            "      <td>Bob Introduction</td>\n",
                            "      <td>Hi, this is Bob!</td>\n",
                            "    </tr>\n",
                            "    <tr>\n",
                            "      <th>3</th>\n",
                            "      <td>charlie</td>\n",
                            "      <td>Charlie Notes</td>\n",
                            "      <td>Some notes from Charlie</td>\n",
                            "    </tr>\n",
                            "  </tbody>\n",
                            "</table>\n",
                            "</div>"
                        ],
                        "text/plain": [
                            "  username              title                  content\n",
                            "0    alice   Alice First Post  Hello world from Alice!\n",
                            "1    alice  Alice Second Post  Another post from Alice\n",
                            "2      bob   Bob Introduction         Hi, this is Bob!\n",
                            "3  charlie      Charlie Notes  Some notes from Charlie"
                        ]
                    },
                    "metadata": {},
                    "output_type": "display_data"
                },
                {
                    "name": "stdout",
                    "output_type": "stream",
                    "text": [
                        "\n",
                        "(4 rows affected)\n"
                    ]
                }
            ],
            "source": [
                "%%sqlcmd\n",
                "-- Create another table for demonstration\n",
                "CREATE TABLE demo_posts (\n",
                "    id INT IDENTITY(1,1) PRIMARY KEY,\n",
                "    user_id INT FOREIGN KEY REFERENCES demo_users(id),\n",
                "    title VARCHAR(100) NOT NULL,\n",
                "    content NVARCHAR(MAX),\n",
                "    created_at DATETIME DEFAULT GETDATE()\n",
                ");\n",
                "\n",
                "-- Insert some posts\n",
                "INSERT INTO demo_posts (user_id, title, content) VALUES\n",
                "    (1, 'Alice First Post', 'Hello world from Alice!'),\n",
                "    (1, 'Alice Second Post', 'Another post from Alice'),\n",
                "    (2, 'Bob Introduction', 'Hi, this is Bob!'),\n",
                "    (3, 'Charlie Notes', 'Some notes from Charlie');\n",
                "    \n",
                "-- Query with JOIN\n",
                "SELECT u.username, p.title, p.content\n",
                "FROM demo_users u\n",
                "JOIN demo_posts p ON u.id = p.user_id\n",
                "ORDER BY u.username, p.created_at;"
            ]
        },
        {
            "cell_type": "markdown",
            "metadata": {},
            "source": [
                "## Using Regular Python to Access the Database\n",
                "\n",
                "You can also interact with the database using Python code and pyodbc:"
            ]
        },
        {
            "cell_type": "code",
            "execution_count": null,
            "metadata": {},
            "outputs": [
                {
                    "name": "stdout",
                    "output_type": "stream",
                    "text": [
                        "Total number of posts: 4\n",
                        "\n",
                        "Post count by user:\n",
                        "  alice: 2 posts\n",
                        "  bob: 1 posts\n",
                        "  charlie: 1 posts\n"
                    ]
                }
            ],
            "source": [
                "# Connect directly using our db_manager's connection property\n",
                "conn = db_manager.connection\n",
                "\n",
                "# Create a cursor\n",
                "cursor = conn.cursor()\n",
                "\n",
                "# Execute a query\n",
                "cursor.execute(\"SELECT COUNT(*) as post_count FROM demo_posts\")\n",
                "result = cursor.fetchone()\n",
                "print(f\"Total number of posts: {result[0]}\")\n",
                "\n",
                "# Group by query\n",
                "cursor.execute(\"\"\"\n",
                "    SELECT u.username, COUNT(p.id) as post_count \n",
                "    FROM demo_users u\n",
                "    LEFT JOIN demo_posts p ON u.id = p.user_id\n",
                "    GROUP BY u.username\n",
                "    ORDER BY post_count DESC\n",
                "\"\"\")\n",
                "\n",
                "print(\"\\nPost count by user:\")\n",
                "for row in cursor.fetchall():\n",
                "    print(f\"  {row[0]}: {row[1]} posts\")\n",
                "\n",
                "# Close the connection\n",
                "cursor.close()\n",
                "conn.close()"
            ]
        },
        {
            "cell_type": "markdown",
            "metadata": {},
            "source": [
                "## Using SQL Server-Specific Features\n",
                "\n",
                "Let's try some SQL Server-specific features like T-SQL stored procedures:"
            ]
        },
        {
            "cell_type": "code",
            "execution_count": null,
            "metadata": {},
            "outputs": [],
            "source": [
                "%%sqlcmd\n",
                "-- Create a stored procedure to get post count for a specific user\n",
                "CREATE PROCEDURE GetUserPostCount\n",
                "    @username VARCHAR(50)\n",
                "AS\n",
                "BEGIN\n",
                "    SELECT u.username, COUNT(p.id) as post_count\n",
                "    FROM demo_users u\n",
                "    LEFT JOIN demo_posts p ON u.id = p.user_id\n",
                "    WHERE u.username = @username\n",
                "    GROUP BY u.username\n",
                "END;\n",
                "\n",
                "-- Execute the stored procedure\n",
                "EXEC GetUserPostCount @username = 'alice';"
            ]
        },
        {
            "cell_type": "markdown",
            "metadata": {},
            "source": [
                "## Clean Up\n",
                "\n",
                "When you're done with the database, you can delete it:"
            ]
        },
        {
            "cell_type": "code",
            "execution_count": null,
            "metadata": {},
            "outputs": [
                {
                    "name": "stdout",
                    "output_type": "stream",
                    "text": [
                        "Database container 'demo-mssql-3ab9f308' deleted\n",
                        "Temporary directory 'C:\\Users\\acisse\\AppData\\Local\\Temp\\tmp0twu9uin' removed\n"
                    ]
                }
            ],
            "source": [
                "# Delete the database container\n",
                "db_manager.delete_db()\n",
                "print(f\"Database container '{container_name}' deleted\")\n",
                "\n",
                "# Clean up the temporary directory\n",
                "import shutil\n",
                "shutil.rmtree(temp_dir)\n",
                "print(f\"Temporary directory '{temp_dir}' removed\")"
            ]
        },
        {
            "cell_type": "markdown",
            "metadata": {},
            "source": [
                "## Conclusion\n",
                "\n",
                "This notebook demonstrated how to:\n",
                "\n",
                "1. Configure and create a Microsoft SQL Server database with `MSSQLDB`\n",
                "2. Connect to the database using SQL cell magic with pyodbc\n",
                "3. Execute SQL queries and create T-SQL stored procedures\n",
                "4. Use pyodbc with Python to interact with the database\n",
                "5. Clean up the database when finished\n",
                "\n",
                "The `MSSQLDB` manager provides a convenient way to spin up SQL Server instances in Docker containers for development, testing, or demonstration purposes.\n",
                "\n",
                "Note that SQL Server requires more resources than some other database engines, so ensure your Docker environment has sufficient memory and CPU allocated."
            ]
        }
    ],
    "metadata": {
        "kernelspec": {
            "display_name": ".venv",
            "language": "python",
            "name": "python3"
        },
        "language_info": {
            "codemirror_mode": {
                "name": "ipython",
                "version": 3
            },
            "file_extension": ".py",
            "mimetype": "text/x-python",
            "name": "python",
            "nbconvert_exporter": "python",
            "pygments_lexer": "ipython3",
            "version": "3.12.10"
        }
    },
    "nbformat": 4,
    "nbformat_minor": 4
}
