{
    "cells": [
        {
            "cell_type": "markdown",
            "metadata": {},
            "source": [
                "# MongoDB Manager Usage Examples\n",
                "\n",
                "This notebook demonstrates how to use the `MongoDB` manager class to create, manage, and interact with a MongoDB database in a Docker container."
            ]
        },
        {
            "cell_type": "markdown",
            "metadata": {},
            "source": [
                "## Setup\n",
                "\n",
                "### Install Required Packages"
            ]
        },
        {
            "cell_type": "code",
            "execution_count": 1,
            "metadata": {},
            "outputs": [
                {
                    "name": "stdout",
                    "output_type": "stream",
                    "text": [
                        "Requirement already satisfied: py-dockerdb in c:\\users\\acisse\\onedrive - bridgingit-gruppe\\003_codeworkspace\\003_private\\duplicateworkspaces\\docker-db\\.venv\\lib\\site-packages (0.3.0)\n",
                        "Requirement already satisfied: pymongo in c:\\users\\acisse\\onedrive - bridgingit-gruppe\\003_codeworkspace\\003_private\\duplicateworkspaces\\docker-db\\.venv\\lib\\site-packages (4.13.0)\n",
                        "Requirement already satisfied: psycopg2-binary in c:\\users\\acisse\\onedrive - bridgingit-gruppe\\003_codeworkspace\\003_private\\duplicateworkspaces\\docker-db\\.venv\\lib\\site-packages (from py-dockerdb) (2.9.10)\n",
                        "Requirement already satisfied: docker in c:\\users\\acisse\\onedrive - bridgingit-gruppe\\003_codeworkspace\\003_private\\duplicateworkspaces\\docker-db\\.venv\\lib\\site-packages (from py-dockerdb) (7.1.0)\n",
                        "Requirement already satisfied: pytest in c:\\users\\acisse\\onedrive - bridgingit-gruppe\\003_codeworkspace\\003_private\\duplicateworkspaces\\docker-db\\.venv\\lib\\site-packages (from py-dockerdb) (8.3.5)\n",
                        "Requirement already satisfied: pydantic in c:\\users\\acisse\\onedrive - bridgingit-gruppe\\003_codeworkspace\\003_private\\duplicateworkspaces\\docker-db\\.venv\\lib\\site-packages (from py-dockerdb) (2.11.4)\n",
                        "Requirement already satisfied: setuptools in c:\\users\\acisse\\onedrive - bridgingit-gruppe\\003_codeworkspace\\003_private\\duplicateworkspaces\\docker-db\\.venv\\lib\\site-packages (from py-dockerdb) (80.7.1)\n",
                        "Requirement already satisfied: pyodbc in c:\\users\\acisse\\onedrive - bridgingit-gruppe\\003_codeworkspace\\003_private\\duplicateworkspaces\\docker-db\\.venv\\lib\\site-packages (from py-dockerdb) (5.2.0)\n",
                        "Requirement already satisfied: mysql-connector-python in c:\\users\\acisse\\onedrive - bridgingit-gruppe\\003_codeworkspace\\003_private\\duplicateworkspaces\\docker-db\\.venv\\lib\\site-packages (from py-dockerdb) (9.3.0)\n",
                        "Requirement already satisfied: pydos2unix in c:\\users\\acisse\\onedrive - bridgingit-gruppe\\003_codeworkspace\\003_private\\duplicateworkspaces\\docker-db\\.venv\\lib\\site-packages (from py-dockerdb) (0.0.1)\n",
                        "Requirement already satisfied: dnspython<3.0.0,>=1.16.0 in c:\\users\\acisse\\onedrive - bridgingit-gruppe\\003_codeworkspace\\003_private\\duplicateworkspaces\\docker-db\\.venv\\lib\\site-packages (from pymongo) (2.7.0)\n",
                        "Requirement already satisfied: pywin32>=304 in c:\\users\\acisse\\onedrive - bridgingit-gruppe\\003_codeworkspace\\003_private\\duplicateworkspaces\\docker-db\\.venv\\lib\\site-packages (from docker->py-dockerdb) (310)\n",
                        "Requirement already satisfied: requests>=2.26.0 in c:\\users\\acisse\\onedrive - bridgingit-gruppe\\003_codeworkspace\\003_private\\duplicateworkspaces\\docker-db\\.venv\\lib\\site-packages (from docker->py-dockerdb) (2.32.3)\n",
                        "Requirement already satisfied: urllib3>=1.26.0 in c:\\users\\acisse\\onedrive - bridgingit-gruppe\\003_codeworkspace\\003_private\\duplicateworkspaces\\docker-db\\.venv\\lib\\site-packages (from docker->py-dockerdb) (2.4.0)\n",
                        "Requirement already satisfied: annotated-types>=0.6.0 in c:\\users\\acisse\\onedrive - bridgingit-gruppe\\003_codeworkspace\\003_private\\duplicateworkspaces\\docker-db\\.venv\\lib\\site-packages (from pydantic->py-dockerdb) (0.7.0)\n",
                        "Requirement already satisfied: pydantic-core==2.33.2 in c:\\users\\acisse\\onedrive - bridgingit-gruppe\\003_codeworkspace\\003_private\\duplicateworkspaces\\docker-db\\.venv\\lib\\site-packages (from pydantic->py-dockerdb) (2.33.2)\n",
                        "Requirement already satisfied: typing-extensions>=4.12.2 in c:\\users\\acisse\\onedrive - bridgingit-gruppe\\003_codeworkspace\\003_private\\duplicateworkspaces\\docker-db\\.venv\\lib\\site-packages (from pydantic->py-dockerdb) (4.13.2)\n",
                        "Requirement already satisfied: typing-inspection>=0.4.0 in c:\\users\\acisse\\onedrive - bridgingit-gruppe\\003_codeworkspace\\003_private\\duplicateworkspaces\\docker-db\\.venv\\lib\\site-packages (from pydantic->py-dockerdb) (0.4.0)\n",
                        "Requirement already satisfied: colorama in c:\\users\\acisse\\onedrive - bridgingit-gruppe\\003_codeworkspace\\003_private\\duplicateworkspaces\\docker-db\\.venv\\lib\\site-packages (from pytest->py-dockerdb) (0.4.6)\n",
                        "Requirement already satisfied: iniconfig in c:\\users\\acisse\\onedrive - bridgingit-gruppe\\003_codeworkspace\\003_private\\duplicateworkspaces\\docker-db\\.venv\\lib\\site-packages (from pytest->py-dockerdb) (2.1.0)\n",
                        "Requirement already satisfied: packaging in c:\\users\\acisse\\onedrive - bridgingit-gruppe\\003_codeworkspace\\003_private\\duplicateworkspaces\\docker-db\\.venv\\lib\\site-packages (from pytest->py-dockerdb) (25.0)\n",
                        "Requirement already satisfied: pluggy<2,>=1.5 in c:\\users\\acisse\\onedrive - bridgingit-gruppe\\003_codeworkspace\\003_private\\duplicateworkspaces\\docker-db\\.venv\\lib\\site-packages (from pytest->py-dockerdb) (1.6.0)\n",
                        "Requirement already satisfied: charset-normalizer<4,>=2 in c:\\users\\acisse\\onedrive - bridgingit-gruppe\\003_codeworkspace\\003_private\\duplicateworkspaces\\docker-db\\.venv\\lib\\site-packages (from requests>=2.26.0->docker->py-dockerdb) (3.4.2)\n",
                        "Requirement already satisfied: idna<4,>=2.5 in c:\\users\\acisse\\onedrive - bridgingit-gruppe\\003_codeworkspace\\003_private\\duplicateworkspaces\\docker-db\\.venv\\lib\\site-packages (from requests>=2.26.0->docker->py-dockerdb) (3.10)\n",
                        "Requirement already satisfied: certifi>=2017.4.17 in c:\\users\\acisse\\onedrive - bridgingit-gruppe\\003_codeworkspace\\003_private\\duplicateworkspaces\\docker-db\\.venv\\lib\\site-packages (from requests>=2.26.0->docker->py-dockerdb) (2025.4.26)\n"
                    ]
                },
                {
                    "name": "stderr",
                    "output_type": "stream",
                    "text": [
                        "\n",
                        "[notice] A new release of pip is available: 25.0.1 -> 25.1.1\n",
                        "[notice] To update, run: python.exe -m pip install --upgrade pip\n"
                    ]
                }
            ],
            "source": [
                "!pip install py-dockerdb pymongo"
            ]
        },
        {
            "cell_type": "markdown",
            "metadata": {},
            "source": [
                "### Import Dependencies"
            ]
        },
        {
            "cell_type": "code",
            "execution_count": null,
            "metadata": {},
            "outputs": [],
            "source": [
                "import uuid\n",
                "from pathlib import Path\n",
                "from bson import ObjectId\n",
                "from docker_db.mongo_db import MongoDBConfig, MongoDB"
            ]
        },
        {
            "cell_type": "markdown",
            "metadata": {},
            "source": [
                "## Creating a MongoDB Instance\n",
                "\n",
                "Let's create a temporary directory for our database files:"
            ]
        },
        {
            "cell_type": "code",
            "execution_count": null,
            "metadata": {},
            "outputs": [
                {
                    "name": "stdout",
                    "output_type": "stream",
                    "text": [
                        "Created temporary directory: C:\\Users\\acisse\\AppData\\Local\\Temp\\tmp6_jnqria\n"
                    ]
                }
            ],
            "source": [
                "import tempfile\n",
                "import os\n",
                "temp_dir = Path(\"tmp\")\n",
                "temp_dir.mkdir(exist_ok=True)\n",
                "container_name = f\"demo-mongodb-{uuid.uuid4().hex[:8]}\"\n",
                "init_script_path = Path(\"configs\", \"mongodb\", \"init.js\")\n",
                "init_script_path.exists()"
            ]
        },
        {
            "cell_type": "markdown",
            "metadata": {},
            "source": [
                "Now, let's set up the MongoDB configuration:"
            ]
        },
        {
            "cell_type": "code",
            "execution_count": null,
            "metadata": {},
            "outputs": [],
            "source": [
                "# Generate a unique container name\n",
                "container_name = f\"demo-mongodb-{uuid.uuid4().hex[:8]}\"\n",
                "\n",
                "# Create a configuration for our database\n",
                "config = MongoDBConfig(\n",
                "    user=\"demouser\",\n",
                "    password=\"demopass\",\n",
                "    database=\"demodb\",\n",
                "    root_username=\"admin\",\n",
                "    root_password=\"adminpass\",\n",
                "    project_name=\"demo\",\n",
                "    workdir=temp_dir,\n",
                "    container_name=container_name,\n",
                "    retries=20,\n",
                "    delay=3, \n",
                "    nit_script=init_script_path,\n",
                "    env_vars={\"YourEnvVar\": \"TestEnvironment\"})\n",
                "\n",
                "# Initialize the database manager\n",
                "db_manager = MongoDB(config)"
            ]
        },
        {
            "cell_type": "markdown",
            "metadata": {},
            "source": [
                "## Start the Database\n",
                "\n",
                "We'll now create and start the database:"
            ]
        },
        {
            "cell_type": "code",
            "execution_count": 5,
            "metadata": {},
            "outputs": [
                {
                    "name": "stdout",
                    "output_type": "stream",
                    "text": [
                        "Ensuring database 'demodb' and user 'demouser' exist...\n",
                        "Created user 'demouser' with access to database 'demodb'\n",
                        "Database started successfully in container 'demo-mongodb-f9bbb039'\n",
                        "Connection details:\n",
                        "  Host: localhost\n",
                        "  Port: 27017\n",
                        "  User: demouser\n",
                        "  Database: demodb\n"
                    ]
                }
            ],
            "source": [
                "# Create and start the database\n",
                "db_manager.create_db()\n",
                "print(f\"Database started successfully in container '{container_name}'\")\n",
                "print(f\"Connection details:\")\n",
                "print(f\"  Host: {config.host}\")\n",
                "print(f\"  Port: {config.port}\")\n",
                "print(f\"  User: {config.user}\")\n",
                "print(f\"  Database: {config.database}\")"
            ]
        },
        {
            "cell_type": "markdown",
            "metadata": {},
            "source": [
                "## Connect and Create Collections\n",
                "\n",
                "Now that our database is running, let's connect to it and create some collections:"
            ]
        },
        {
            "cell_type": "code",
            "execution_count": 6,
            "metadata": {},
            "outputs": [
                {
                    "name": "stdout",
                    "output_type": "stream",
                    "text": [
                        "Connected to MongoDB successfully.\n",
                        "Available collections: []\n"
                    ]
                }
            ],
            "source": [
                "# Connect to the database\n",
                "client = db_manager.connection\n",
                "db = client[config.database]\n",
                "\n",
                "print(\"Connected to MongoDB successfully.\")\n",
                "print(f\"Available collections: {db.list_collection_names()}\")"
            ]
        },
        {
            "cell_type": "markdown",
            "metadata": {},
            "source": [
                "### Creating Collections and Inserting Data"
            ]
        },
        {
            "cell_type": "code",
            "execution_count": 7,
            "metadata": {},
            "outputs": [
                {
                    "name": "stdout",
                    "output_type": "stream",
                    "text": [
                        "Inserted users with IDs: ['64a7b1c2d3e4f5a6b7c8d9e0', '64a7b1c2d3e4f5a6b7c8d9e1', '64a7b1c2d3e4f5a6b7c8d9e2']\n",
                        "Users collection created successfully.\n",
                        "Available collections: ['users']\n"
                    ]
                }
            ],
            "source": [
                "# Create a users collection and insert some data\n",
                "users_collection = db[\"users\"]\n",
                "\n",
                "# Sample user data\n",
                "users_data = [\n",
                "    {\"_id\": ObjectId(\"64a7b1c2d3e4f5a6b7c8d9e0\"), \"username\": \"alice\", \"email\": \"alice@example.com\", \"age\": 28},\n",
                "    {\"_id\": ObjectId(\"64a7b1c2d3e4f5a6b7c8d9e1\"), \"username\": \"bob\", \"email\": \"bob@example.com\", \"age\": 32},\n",
                "    {\"_id\": ObjectId(\"64a7b1c2d3e4f5a6b7c8d9e2\"), \"username\": \"charlie\", \"email\": \"charlie@example.com\", \"age\": 25},\n",
                "]\n",
                "\n",
                "# Insert users\n",
                "result = users_collection.insert_many(users_data)\n",
                "print(f\"Inserted users with IDs: {[str(id) for id in result.inserted_ids]}\")\n",
                "print(\"Users collection created successfully.\")\n",
                "print(f\"Available collections: {db.list_collection_names()}\")"
            ]
        },
        {
            "cell_type": "code",
            "execution_count": 8,
            "metadata": {},
            "outputs": [
                {
                    "name": "stdout",
                    "output_type": "stream",
                    "text": [
                        "Inserted posts with IDs: ['64a7b1c2d3e4f5a6b7c8d9e3', '64a7b1c2d3e4f5a6b7c8d9e4', '64a7b1c2d3e4f5a6b7c8d9e5', '64a7b1c2d3e4f5a6b7c8d9e6']\n",
                        "Posts collection created successfully.\n",
                        "Available collections: ['posts', 'users']\n"
                    ]
                }
            ],
            "source": [
                "# Create a posts collection and insert some data\n",
                "posts_collection = db[\"posts\"]\n",
                "\n",
                "# Sample post data\n",
                "posts_data = [\n",
                "    {\n",
                "        \"_id\": ObjectId(\"64a7b1c2d3e4f5a6b7c8d9e3\"),\n",
                "        \"user_id\": ObjectId(\"64a7b1c2d3e4f5a6b7c8d9e0\"),\n",
                "        \"title\": \"Alice's First Post\",\n",
                "        \"content\": \"Hello world from Alice!\",\n",
                "        \"created_at\": \"2025-05-20T09:30:00.000Z\"\n",
                "    },\n",
                "    {\n",
                "        \"_id\": ObjectId(\"64a7b1c2d3e4f5a6b7c8d9e4\"),\n",
                "        \"user_id\": ObjectId(\"64a7b1c2d3e4f5a6b7c8d9e0\"),\n",
                "        \"title\": \"Alice's Second Post\",\n",
                "        \"content\": \"Another post from Alice\",\n",
                "        \"created_at\": \"2025-05-20T10:15:00.000Z\"\n",
                "    },\n",
                "    {\n",
                "        \"_id\": ObjectId(\"64a7b1c2d3e4f5a6b7c8d9e5\"),\n",
                "        \"user_id\": ObjectId(\"64a7b1c2d3e4f5a6b7c8d9e1\"),\n",
                "        \"title\": \"Bob's Introduction\",\n",
                "        \"content\": \"Hi, this is Bob!\",\n",
                "        \"created_at\": \"2025-05-20T11:00:00.000Z\"\n",
                "    },\n",
                "    {\n",
                "        \"_id\": ObjectId(\"64a7b1c2d3e4f5a6b7c8d9e6\"),\n",
                "        \"user_id\": ObjectId(\"64a7b1c2d3e4f5a6b7c8d9e2\"),\n",
                "        \"title\": \"Charlie's Notes\",\n",
                "        \"content\": \"Some notes from Charlie\",\n",
                "        \"created_at\": \"2025-05-20T12:45:00.000Z\"\n",
                "    }\n",
                "]\n",
                "\n",
                "# Insert posts\n",
                "result = posts_collection.insert_many(posts_data)\n",
                "print(f\"Inserted posts with IDs: {[str(id) for id in result.inserted_ids]}\")\n",
                "print(\"Posts collection created successfully.\")\n",
                "print(f\"Available collections: {db.list_collection_names()}\")"
            ]
        },
        {
            "cell_type": "markdown",
            "metadata": {},
            "source": [
                "## Querying Data\n",
                "\n",
                "Now let's perform some queries on our collections:"
            ]
        },
        {
            "cell_type": "code",
            "execution_count": 9,
            "metadata": {},
            "outputs": [
                {
                    "name": "stdout",
                    "output_type": "stream",
                    "text": [
                        "All users:\n",
                        "-------------------------\n",
                        "Username: alice, Email: alice@example.com, Age: 28\n",
                        "Username: bob, Email: bob@example.com, Age: 32\n",
                        "Username: charlie, Email: charlie@example.com, Age: 25\n",
                        "\n",
                        "Find user by username:\n",
                        "-------------------------\n",
                        "Found user: {'_id': ObjectId('64a7b1c2d3e4f5a6b7c8d9e1'), 'username': 'bob', 'email': 'bob@example.com', 'age': 32}\n",
                        "\n",
                        "Find users by age range:\n",
                        "-------------------------\n",
                        "Username: alice, Email: alice@example.com, Age: 28\n",
                        "Username: charlie, Email: charlie@example.com, Age: 25\n"
                    ]
                }
            ],
            "source": [
                "# Query all users\n",
                "print(\"All users:\")\n",
                "print(\"-------------------------\")\n",
                "for user in users_collection.find():\n",
                "    print(f\"Username: {user['username']}, Email: {user['email']}, Age: {user['age']}\")\n",
                "\n",
                "# Find a specific user by username\n",
                "print(\"\\nFind user by username:\")\n",
                "print(\"-------------------------\")\n",
                "bob = users_collection.find_one({\"username\": \"bob\"})\n",
                "print(f\"Found user: {bob}\")\n",
                "\n",
                "# Find users within an age range\n",
                "print(\"\\nFind users by age range:\")\n",
                "print(\"-------------------------\")\n",
                "young_users = users_collection.find({\"age\": {\"$lt\": 30}})\n",
                "for user in young_users:\n",
                "    print(f\"Username: {user['username']}, Email: {user['email']}, Age: {user['age']}\")"
            ]
        },
        {
            "cell_type": "code",
            "execution_count": 10,
            "metadata": {},
            "outputs": [
                {
                    "name": "stdout",
                    "output_type": "stream",
                    "text": [
                        "Posts by Alice (user_id: 64a7b1c2d3e4f5a6b7c8d9e0):\n",
                        "-------------------------\n",
                        "Title: Alice's First Post\n",
                        "Content: Hello world from Alice!\n",
                        "Created at: 2025-05-20T09:30:00.000Z\n",
                        "\n",
                        "Title: Alice's Second Post\n",
                        "Content: Another post from Alice\n",
                        "Created at: 2025-05-20T10:15:00.000Z\n",
                        "\n",
                        "Posts with 'notes' in the title:\n",
                        "-------------------------\n",
                        "Title: Charlie's Notes\n",
                        "Content: Some notes from Charlie\n",
                        "Created at: 2025-05-20T12:45:00.000Z\n"
                    ]
                }
            ],
            "source": [
                "# Find posts by a specific user\n",
                "alice_id = ObjectId(\"64a7b1c2d3e4f5a6b7c8d9e0\")\n",
                "print(f\"Posts by Alice (user_id: {alice_id}):\")\n",
                "print(\"-------------------------\")\n",
                "alice_posts = posts_collection.find({\"user_id\": alice_id})\n",
                "for post in alice_posts:\n",
                "    print(f\"Title: {post['title']}\")\n",
                "    print(f\"Content: {post['content']}\")\n",
                "    print(f\"Created at: {post['created_at']}\\n\")\n",
                "\n",
                "# Find posts with a specific word in the title\n",
                "print(f\"Posts with 'notes' in the title:\")\n",
                "print(\"-------------------------\")\n",
                "notes_posts = posts_collection.find({\"title\": {\"$regex\": \"notes\", \"$options\": \"i\"}})\n",
                "for post in notes_posts:\n",
                "    print(f\"Title: {post['title']}\")\n",
                "    print(f\"Content: {post['content']}\")\n",
                "    print(f\"Created at: {post['created_at']}\")"
            ]
        },
        {
            "cell_type": "markdown",
            "metadata": {},
            "source": [
                "## Advanced MongoDB Operations\n",
                "\n",
                "Let's demonstrate some more advanced MongoDB operations like aggregation pipelines:"
            ]
        },
        {
            "cell_type": "code",
            "execution_count": 11,
            "metadata": {},
            "outputs": [
                {
                    "name": "stdout",
                    "output_type": "stream",
                    "text": [
                        "Post count by user:\n",
                        "-------------------------\n",
                        "Username: alice, Post count: 2\n",
                        "Username: bob, Post count: 1\n",
                        "Username: charlie, Post count: 1\n"
                    ]
                }
            ],
            "source": [
                "# Aggregate to count posts by user\n",
                "pipeline = [\n",
                "    {\n",
                "        \"$lookup\": {\n",
                "            \"from\": \"users\",\n",
                "            \"localField\": \"user_id\",\n",
                "            \"foreignField\": \"_id\",\n",
                "            \"as\": \"user\"\n",
                "        }\n",
                "    },\n",
                "    {\"$unwind\": \"$user\"},\n",
                "    {\n",
                "        \"$group\": {\n",
                "            \"_id\": \"$user._id\",\n",
                "            \"username\": {\"$first\": \"$user.username\"},\n",
                "            \"post_count\": {\"$sum\": 1}\n",
                "        }\n",
                "    },\n",
                "    {\"$sort\": {\"post_count\": -1}}\n",
                "]\n",
                "\n",
                "print(\"Post count by user:\")\n",
                "print(\"-------------------------\")\n",
                "post_counts = posts_collection.aggregate(pipeline)\n",
                "for result in post_counts:\n",
                "    print(f\"Username: {result['username']}, Post count: {result['post_count']}\")"
            ]
        },
        {
            "cell_type": "code",
            "execution_count": 12,
            "metadata": {},
            "outputs": [
                {
                    "name": "stdout",
                    "output_type": "stream",
                    "text": [
                        "Creating indexes...\n",
                        "Indexes created successfully.\n",
                        "\n",
                        "Available indexes on 'users' collection:\n",
                        "dict_keys(['_id_', 'username_1', 'email_1'])\n"
                    ]
                }
            ],
            "source": [
                "# Create indexes for better query performance\n",
                "print(\"Creating indexes...\")\n",
                "users_collection.create_index(\"username\", unique=True)\n",
                "users_collection.create_index(\"email\", unique=True)\n",
                "print(\"Indexes created successfully.\")\n",
                "\n",
                "# List available indexes\n",
                "print(\"\\nAvailable indexes on 'users' collection:\")\n",
                "print(users_collection.index_information().keys())"
            ]
        },
        {
            "cell_type": "markdown",
            "metadata": {},
            "source": [
                "## Working with MongoDB Schema Validation\n",
                "\n",
                "MongoDB supports schema validation for documents. Let's create a new collection with validation rules:"
            ]
        },
        {
            "cell_type": "code",
            "execution_count": 13,
            "metadata": {},
            "outputs": [
                {
                    "name": "stdout",
                    "output_type": "stream",
                    "text": [
                        "Products collection with schema validation created successfully.\n",
                        "Inserted valid product.\n",
                        "Document validation failed, as expected.\n",
                        "Available collections: ['posts', 'users', 'products']\n"
                    ]
                }
            ],
            "source": [
                "# Create a new collection with schema validation\n",
                "db.create_collection(\n",
                "    \"products\",\n",
                "    validator={\n",
                "        \"$jsonSchema\": {\n",
                "            \"bsonType\": \"object\",\n",
                "            \"required\": [\"name\", \"price\", \"category\"],\n",
                "            \"properties\": {\n",
                "                \"name\": {\n",
                "                    \"bsonType\": \"string\",\n",
                "                    \"description\": \"must be a string and is required\"\n",
                "                },\n",
                "                \"price\": {\n",
                "                    \"bsonType\": \"number\",\n",
                "                    \"minimum\": 0,\n",
                "                    \"description\": \"must be a non-negative number and is required\"\n",
                "                },\n",
                "                \"category\": {\n",
                "                    \"bsonType\": \"string\",\n",
                "                    \"enum\": [\"Electronics\", \"Books\", \"Clothing\", \"Food\"],\n",
                "                    \"description\": \"must be a string from the enum and is required\"\n",
                "                },\n",
                "                \"tags\": {\n",
                "                    \"bsonType\": \"array\",\n",
                "                    \"items\": {\n",
                "                        \"bsonType\": \"string\"\n",
                "                    }\n",
                "                }\n",
                "            }\n",
                "        }\n",
                "    }\n",
                ")\n",
                "\n",
                "print(\"Products collection with schema validation created successfully.\")\n",
                "\n",
                "# Insert a valid document\n",
                "products_collection = db[\"products\"]\n",
                "valid_product = {\n",
                "    \"name\": \"Laptop\",\n",
                "    \"price\": 999.99,\n",
                "    \"category\": \"Electronics\",\n",
                "    \"tags\": [\"portable\", \"high-performance\"]\n",
                "}\n",
                "\n",
                "result = products_collection.insert_one(valid_product)\n",
                "print(\"Inserted valid product.\")\n",
                "\n",
                "# Try to insert an invalid document\n",
                "try:\n",
                "    invalid_product = {\n",
                "        \"name\": \"Invalid Product\",\n",
                "        \"price\": -10,  # Invalid: negative price\n",
                "        \"category\": \"Invalid\"  # Invalid: not in enum\n",
                "    }\n",
                "    products_collection.insert_one(invalid_product)\n",
                "except Exception as e:\n",
                "    print(\"Document validation failed, as expected.\")\n",
                "\n",
                "print(f\"Available collections: {db.list_collection_names()}\")"
            ]
        },
        {
            "cell_type": "markdown",
            "metadata": {},
            "source": [
                "## Clean Up\n",
                "\n",
                "When you're done with the database, you can delete it:"
            ]
        },
        {
            "cell_type": "code",
            "execution_count": 14,
            "metadata": {},
            "outputs": [
                {
                    "name": "stdout",
                    "output_type": "stream",
                    "text": [
                        "Closing connection...\n"
                    ]
                },
                {
                    "name": "stdout",
                    "output_type": "stream",
                    "text": [
                        "Database container 'demo-mongodb-f9bbb039' deleted\n",
                        "Temporary directory 'C:\\Users\\acisse\\AppData\\Local\\Temp\\tmp6_jnqria' removed\n"
                    ]
                }
            ],
            "source": [
                "# Close the connection\n",
                "print(\"Closing connection...\")\n",
                "client.close()\n",
                "\n",
                "# Delete the database container\n",
                "db_manager.delete_db()\n",
                "print(f\"Database container '{container_name}' deleted\")\n",
                "\n",
                "# Clean up the temporary directory\n",
                "import shutil\n",
                "shutil.rmtree(temp_dir)\n",
                "print(f\"Temporary directory '{temp_dir}' removed\")"
            ]
        },
        {
            "cell_type": "markdown",
            "metadata": {},
            "source": [
                "## Conclusion\n",
                "\n",
                "This notebook demonstrated how to:\n",
                "\n",
                "1. Configure and create a MongoDB database with `MongoDB`\n",
                "2. Create collections and insert documents\n",
                "3. Perform various queries and aggregations\n",
                "4. Work with indexes and schema validation\n",
                "5. Clean up the database when finished\n",
                "\n",
                "The `MongoDB` manager provides a convenient way to spin up MongoDB instances in Docker containers for development, testing, or demonstration purposes."
            ]
        }
    ],
    "metadata": {
        "kernelspec": {
            "display_name": ".venv",
            "language": "python",
            "name": "python3"
        },
        "language_info": {
            "codemirror_mode": {
                "name": "ipython",
                "version": 3
            },
            "file_extension": ".py",
            "mimetype": "text/x-python",
            "name": "python",
            "nbconvert_exporter": "python",
            "pygments_lexer": "ipython3",
            "version": "3.12.10"
        }
    },
    "nbformat": 4,
    "nbformat_minor": 4
}
